{
  "nbformat": 4,
  "nbformat_minor": 0,
  "metadata": {
    "colab": {
      "provenance": []
    },
    "kernelspec": {
      "name": "python3",
      "display_name": "Python 3"
    },
    "language_info": {
      "name": "python"
    }
  },
  "cells": [
    {
      "cell_type": "code",
      "execution_count": 1,
      "metadata": {
        "colab": {
          "base_uri": "https://localhost:8080/"
        },
        "id": "_LOIhBwUFwkw",
        "outputId": "9ef653d9-2076-4a7b-bbca-25666435f184"
      },
      "outputs": [
        {
          "output_type": "stream",
          "name": "stdout",
          "text": [
            "Invalid data type for timestamp in row 4\n",
            "Invalid data type for amount in row 5\n",
            "Amount out of range in row 9\n",
            "Missing required fields in row 10: account_id\n",
            "Invalid data type for transaction_id in row 10\n"
          ]
        }
      ],
      "source": [
        "import pandas as pd\n",
        "\n",
        "def validate_financial_data(data):\n",
        "    errors = []\n",
        "\n",
        "    for row_idx, record in enumerate(data):\n",
        "        # Check for required fields\n",
        "        required_fields = ['transaction_id', 'amount', 'timestamp', 'account_id']\n",
        "        missing_fields = [field for field in required_fields if field not in record]\n",
        "        if missing_fields:\n",
        "            errors.append(f\"Missing required fields in row {row_idx + 1}: {', '.join(missing_fields)}\")\n",
        "\n",
        "        # Check data types\n",
        "        if not isinstance(record.get('transaction_id', ''), str):\n",
        "            errors.append(f\"Invalid data type for transaction_id in row {row_idx + 1}\")\n",
        "        if not isinstance(record.get('amount', 0), (int, float)):\n",
        "            errors.append(f\"Invalid data type for amount in row {row_idx + 1}\")\n",
        "        else:\n",
        "          # Check amount range\n",
        "          if 'amount' in record and not (0 <= record['amount'] <= 1000000):\n",
        "              errors.append(f\"Amount out of range in row {row_idx + 1}\")\n",
        "        if not isinstance(record.get('timestamp', ''), str):\n",
        "            errors.append(f\"Invalid data type for timestamp in row {row_idx + 1}\")\n",
        "        if not isinstance(record.get('account_id', ''), str):\n",
        "            errors.append(f\"Invalid data type for account_id in row {row_idx + 1}\")\n",
        "\n",
        "\n",
        "\n",
        "        # Add more validation rules as needed...\n",
        "\n",
        "    return errors\n",
        "\n",
        "# Example financial data\n",
        "\n",
        "financial_data = [\n",
        "    {\"transaction_id\": \"txn123\", \"amount\": 500.0, \"timestamp\": \"2023-05-01 10:30:00\", \"account_id\": \"acc456\"},\n",
        "    {\"transaction_id\": \"txn124\", \"amount\": 1500.0, \"timestamp\": \"2023-05-01 11:00:00\", \"account_id\": \"acc457\"},\n",
        "    {\"transaction_id\": \"txn126\", \"amount\": 800.0, \"timestamp\": \"2023-05-01 13:30:00\", \"account_id\": \"acc459\"},\n",
        "    {\"transaction_id\": \"txn127\", \"amount\": 1200.0, \"timestamp\": 900, \"account_id\": \"acc460\"},\n",
        "    {\"transaction_id\": \"txn128\", \"amount\": \"abc\", \"timestamp\": \"2023-05-01 15:45:00\", \"account_id\": \"acc461\"},\n",
        "    {\"transaction_id\": \"txn129\", \"amount\": 700.0, \"timestamp\": \"2023-05-01 17:00:00\", \"account_id\": \"acc462\"},\n",
        "    {\"transaction_id\": \"txn130\", \"amount\": 1800.0, \"timestamp\": \"2023-05-01 18:15:00\", \"account_id\": \"acc463\"},\n",
        "    {\"transaction_id\": \"txn131\", \"amount\": 1500.0, \"timestamp\": \"2023-05-01 19:30:00\", \"account_id\": \"acc464\"},\n",
        "    {\"transaction_id\": \"txn132\", \"amount\": 2100000.0, \"timestamp\": \"2023-05-01 20:45:00\", \"account_id\": \"acc465\"},\n",
        "    {\"transaction_id\": 1010, \"amount\": 2100.0, \"timestamp\": \"2023-08-20T23:15:45\", \"status\": \"completed\"}\n",
        "\n",
        "]\n",
        "\n",
        "\n",
        "validation_errors = validate_financial_data(financial_data)\n",
        "if validation_errors:\n",
        "    for error in validation_errors:\n",
        "        print(error)\n",
        "else:\n",
        "    print(\"No validation errors found.\")\n"
      ]
    }
  ]
}