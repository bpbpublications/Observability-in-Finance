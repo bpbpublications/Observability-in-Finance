{
  "nbformat": 4,
  "nbformat_minor": 0,
  "metadata": {
    "colab": {
      "provenance": []
    },
    "kernelspec": {
      "name": "python3",
      "display_name": "Python 3"
    },
    "language_info": {
      "name": "python"
    }
  },
  "cells": [
    {
      "cell_type": "code",
      "execution_count": 11,
      "metadata": {
        "colab": {
          "base_uri": "https://localhost:8080/"
        },
        "id": "4LpduWfeRoc7",
        "outputId": "39fc3f1b-0495-4b5d-9ccb-449acf48085d"
      },
      "outputs": [
        {
          "output_type": "stream",
          "name": "stderr",
          "text": [
            "/usr/local/lib/python3.10/dist-packages/sklearn/base.py:439: UserWarning: X does not have valid feature names, but IsolationForest was fitted with feature names\n",
            "  warnings.warn(\n",
            "/usr/local/lib/python3.10/dist-packages/sklearn/base.py:439: UserWarning: X does not have valid feature names, but IsolationForest was fitted with feature names\n",
            "  warnings.warn(\n"
          ]
        },
        {
          "output_type": "stream",
          "name": "stdout",
          "text": [
            "Alert: Suspicious transaction detected! Details: Transaction_ID                      101\n",
            "Card_Number         **** **** **** 6056\n",
            "timestamp           2021-01-05 04:00:00\n",
            "Amount                       568.572617\n",
            "Location                         Online\n",
            "Is_Fraud                              0\n",
            "location_encoded                      1\n",
            "Name: 100, dtype: object\n"
          ]
        }
      ],
      "source": [
        "import pandas as pd\n",
        "import pandas as pd\n",
        "import numpy as np\n",
        "\n",
        "# Set a random seed for reproducibility\n",
        "np.random.seed(42)\n",
        "\n",
        "# Number of transactions\n",
        "num_transactions = 1000\n",
        "\n",
        "# Generate synthetic data\n",
        "data = {\n",
        "    'Transaction_ID': np.arange(1, num_transactions + 1),\n",
        "    'Card_Number': [\"**** **** **** \" + str(np.random.randint(1000, 9999)) for _ in range(num_transactions)],\n",
        "    'timestamp': pd.date_range(start='2021-01-01', periods=num_transactions, freq='H'),\n",
        "    'Amount': np.random.uniform(5, 1000, num_transactions),\n",
        "    'Location': np.random.choice(['Online', 'POS_Terminal', 'ATM', 'Store'], num_transactions),\n",
        "    'Is_Fraud': np.random.choice([0, 1], num_transactions, p=[0.95, 0.05])  # 5% fraud rate for demonstration\n",
        "}\n",
        "\n",
        "# Convert to DataFrame\n",
        "transactions_df = pd.DataFrame(data)\n",
        "\n",
        "# Save to CSV\n",
        "transactions_df.to_csv('transactions.csv', index=False)\n",
        "import pandas as pd\n",
        "from sklearn.ensemble import IsolationForest\n",
        "from sklearn.preprocessing import LabelEncoder\n",
        "\n",
        "data = pd.read_csv('transactions.csv')\n",
        "data['timestamp'] = pd.to_datetime(data['timestamp'])\n",
        "\n",
        "# Encoding the 'Location' column\n",
        "encoder = LabelEncoder()\n",
        "data['location_encoded'] = encoder.fit_transform(data['Location'])\n",
        "\n",
        "# Selecting the features for the model\n",
        "features = ['Amount', 'location_encoded']\n",
        "\n",
        "model = IsolationForest(contamination=0.01)  # contamination parameter may need tuning\n",
        "model.fit(data[features])\n",
        "\n",
        "def is_anomaly(transaction):\n",
        "    prediction = model.predict([transaction[features].values])\n",
        "    return prediction[0] == 1\n",
        "\n",
        "def check_transaction(transaction):\n",
        "    if is_anomaly(transaction):\n",
        "        trigger_alert(transaction)\n",
        "\n",
        "def trigger_alert(transaction):\n",
        "    print(f\"Alert: Suspicious transaction detected! Details: {transaction}\")\n",
        "\n",
        "    # Automated responses can be added here\n",
        "    block_transaction(transaction)\n",
        "    contact_customer(transaction)\n",
        "\n",
        "def block_transaction(transaction):\n",
        "    # Logic to block the transaction (e.g., make an API call to the payment gateway)\n",
        "    pass\n",
        "\n",
        "def contact_customer(transaction):\n",
        "    # Logic to contact the customer, maybe via email or SMS\n",
        "    pass\n",
        "\n",
        "# Example to check an anomaly\n",
        "transaction_sample = data.iloc[100]\n",
        "check_transaction(transaction_sample)\n",
        "\n"
      ]
    },
    {
      "cell_type": "code",
      "source": [
        "print(data.head())"
      ],
      "metadata": {
        "colab": {
          "base_uri": "https://localhost:8080/"
        },
        "id": "L7AjQMyttbo-",
        "outputId": "4b48dad1-f6c1-43d0-9d4e-9f7ba4bebce8"
      },
      "execution_count": 7,
      "outputs": [
        {
          "output_type": "stream",
          "name": "stdout",
          "text": [
            "   Transaction_ID          Card_Number           timestamp      Amount  \\\n",
            "0               1  **** **** **** 8270 2021-01-01 00:00:00  862.476693   \n",
            "1               2  **** **** **** 1860 2021-01-01 01:00:00  946.384885   \n",
            "2               3  **** **** **** 6390 2021-01-01 02:00:00  376.442770   \n",
            "3               4  **** **** **** 6191 2021-01-01 03:00:00  274.390950   \n",
            "4               5  **** **** **** 6734 2021-01-01 04:00:00  645.779546   \n",
            "\n",
            "  Location  Is_Fraud  location_encoded  \n",
            "0   Online         0                 1  \n",
            "1   Online         0                 1  \n",
            "2      ATM         0                 0  \n",
            "3    Store         0                 3  \n",
            "4      ATM         0                 0  \n"
          ]
        }
      ]
    }
  ]
}